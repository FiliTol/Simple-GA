{
 "cells": [
  {
   "cell_type": "code",
   "outputs": [],
   "source": [
    "import numpy as np\n",
    "import pandas as pd\n",
    "import pygad.pygad\n",
    "import time\n",
    "from numpy import genfromtxt"
   ],
   "metadata": {
    "collapsed": false,
    "ExecuteTime": {
     "end_time": "2024-03-01T09:28:37.168762742Z",
     "start_time": "2024-03-01T09:28:37.125237767Z"
    }
   },
   "id": "e2c35dfbdc47a46f",
   "execution_count": 3
  },
  {
   "cell_type": "markdown",
   "source": [
    "# Portfolio selection problem"
   ],
   "metadata": {
    "collapsed": false
   },
   "id": "2cc858c4abb9c720"
  },
  {
   "cell_type": "code",
   "outputs": [],
   "source": [
    "# Data\n",
    "r = genfromtxt(\"data/annualized_average_log_returns.csv\", delimiter=\",\")[:,1]\n",
    "# TODO: move stock labels to indexes and column names\n",
    "r = np.reshape(r, (1,len(r)))\n",
    "V = genfromtxt(\"data/cov_matrix.csv\", delimiter=',')\n",
    "pigre = 0.049149"
   ],
   "metadata": {
    "collapsed": false,
    "ExecuteTime": {
     "end_time": "2024-03-01T09:30:49.895059889Z",
     "start_time": "2024-03-01T09:30:49.800809259Z"
    }
   },
   "id": "4a896a88019d039a",
   "execution_count": 4
  },
  {
   "cell_type": "code",
   "outputs": [
    {
     "data": {
      "text/plain": "(472, 472)"
     },
     "execution_count": 9,
     "metadata": {},
     "output_type": "execute_result"
    }
   ],
   "source": [
    "V.shape"
   ],
   "metadata": {
    "collapsed": false,
    "ExecuteTime": {
     "end_time": "2024-03-01T09:32:17.623731628Z",
     "start_time": "2024-03-01T09:32:17.617406887Z"
    }
   },
   "id": "21abe7fc1a017a45",
   "execution_count": 9
  },
  {
   "cell_type": "code",
   "outputs": [],
   "source": [
    "runs = 10\n",
    "numberOfVariables = 3                       ## To insert runs = 10                                   ## To insert\n",
    "results = np.zeros((runs, 9))\n",
    "\n",
    "## True solution\n",
    "\n",
    "V1 = np.linalg.inv(V)\n",
    "e = np.ones((1, numberOfVariables))\n",
    "alfa = np.dot(np.dot(r, V1), r.T)\n",
    "beta = np.dot(np.dot(r, V1), e.T)\n",
    "gamma = np.dot(np.dot(e, V1), e.T)\n",
    "\n",
    "numerator = (gamma * np.dot(V1, r.T) - beta * np.dot(V1, e.T)) * pigre + (alfa * np.dot(V1, e.T) - beta * np.dot(V1, r.T))\n",
    "denominator = alfa * gamma - beta**2\n",
    "\n",
    "true_solution = numerator/denominator "
   ],
   "metadata": {
    "collapsed": false
   },
   "id": "877b62f284df91f7",
   "execution_count": 3
  },
  {
   "cell_type": "code",
   "outputs": [
    {
     "name": "stdout",
     "output_type": "stream",
     "text": [
      "[[0.16142742]\n",
      " [0.72045951]\n",
      " [0.11811307]]\n"
     ]
    }
   ],
   "source": [
    "print(true_solution)"
   ],
   "metadata": {
    "collapsed": false,
    "ExecuteTime": {
     "end_time": "2024-02-28T11:46:41.660380106Z",
     "start_time": "2024-02-28T11:46:41.617728686Z"
    }
   },
   "id": "f5d3fd944f2013ec",
   "execution_count": 4
  },
  {
   "cell_type": "code",
   "outputs": [],
   "source": [
    "## Fitess minimization\n",
    "def fitness_function(ga_instance, solution, solution_index):\n",
    "\n",
    "    out = (0.000748044*(solution[0]**2) +\n",
    "           0.000841507*(solution[1]**2) +\n",
    "           0.000707590*(solution[2]**2) +\n",
    "           2*(-0.000238393)*solution[0]*solution[1] +\n",
    "        2*(-0.000234123)*solution[0]*solution[2] +\n",
    "        2*0.000053341*solution[1]*solution[2] +\n",
    "        (1/1)*(abs(0.046492*solution[0] + 0.050035*solution[1] + 0.047376*solution[2] - 0.049149) +\n",
    "        abs(solution[0] + solution[1] + solution[2] - 1)) +\n",
    "           max(-solution[0], 0) +\n",
    "           max(-solution[1], 0) +\n",
    "           max(-solution[2], 0)\n",
    "           )\n",
    "\n",
    "    fitness = 1.0 / (np.abs(out - pigre) + 0.0000001)\n",
    "\n",
    "    return fitness\n"
   ],
   "metadata": {
    "collapsed": false,
    "ExecuteTime": {
     "end_time": "2024-02-28T11:52:06.501553781Z",
     "start_time": "2024-02-28T11:52:06.492047793Z"
    }
   },
   "id": "43162172b0e4a55d",
   "execution_count": 19
  },
  {
   "cell_type": "code",
   "execution_count": 20,
   "id": "initial_id",
   "metadata": {
    "collapsed": true,
    "ExecuteTime": {
     "end_time": "2024-02-28T11:52:08.017719279Z",
     "start_time": "2024-02-28T11:52:08.016250516Z"
    }
   },
   "outputs": [],
   "source": [
    "num_generations = 200\n",
    "num_parents_mating = 100\n",
    "sol_per_pop = 200\n",
    "num_genes = 3\n",
    "gene_type = float\n",
    "parent_selection_type = \"rws\"\n",
    "keep_elitism= 100\n",
    "crossover_type = \"single_point\"\n",
    "crossover_probability = 0.05\n",
    "mutation_type = \"random\"\n",
    "mutation_probability = 0.01\n",
    "save_solutions = True\n",
    "save_best_solutions = True\n",
    "stop_criteria = \"saturate_10\"    # stop the run() if fitness not change for 10 consecutive generations\n",
    "parallel_processing = 4\n",
    "suppress_warnings = True"
   ]
  },
  {
   "cell_type": "code",
   "outputs": [],
   "source": [
    "\n",
    "for i in range(runs):\n",
    "\n",
    "    ga_instance = pygad.GA(fitness_func=fitness_function,\n",
    "                           num_generations=num_generations,\n",
    "                           num_parents_mating=num_parents_mating,\n",
    "                           sol_per_pop=sol_per_pop,\n",
    "                           num_genes=num_genes,\n",
    "                           gene_type=gene_type,\n",
    "                           parent_selection_type=parent_selection_type,\n",
    "                           crossover_type=crossover_type,\n",
    "                           crossover_probability=crossover_probability,\n",
    "                           mutation_type=mutation_type,\n",
    "                           mutation_probability=mutation_probability,\n",
    "                           save_solutions=save_solutions,\n",
    "                           save_best_solutions=save_best_solutions,\n",
    "                           #stop_criteria=stop_criteria,\n",
    "                           parallel_processing=parallel_processing,\n",
    "                           suppress_warnings=suppress_warnings)\n",
    "    \n",
    "    # Execution time for algorithm run\n",
    "    start = time.time()\n",
    "    ga_instance.run()\n",
    "    stop = time.time()\n",
    "    \n",
    "    solution, solution_fitness, solution_idx = ga_instance.best_solution()\n",
    "    results[i, 0] = solution[0]\n",
    "    results[i, 1] = solution[1]\n",
    "    results[i, 2] = solution[2]\n",
    "    results[i, 3] = solution_fitness\n",
    "    results[i, 4] = np.dot(np.dot(solution, V), solution.T)\n",
    "    results[i, 5] = np.dot(r, solution)[0] - pigre\n",
    "    results[i, 6] = np.sum(solution) - 1\n",
    "    results[i, 7] = ga_instance.best_solution_generation if ga_instance.best_solution_generation != -1 else None\n",
    "    results[i, 8] = stop-start\n",
    "    \n",
    "    # Save algorithm\n",
    "\n",
    "    filename = f'runs/genetic_{i}'\n",
    "    ga_instance.save(filename=filename)\n"
   ],
   "metadata": {
    "collapsed": false,
    "ExecuteTime": {
     "end_time": "2024-02-28T12:03:38.226398325Z",
     "start_time": "2024-02-28T12:00:11.436048463Z"
    }
   },
   "id": "dbcc81b927c68f6f",
   "execution_count": 33
  },
  {
   "cell_type": "code",
   "outputs": [
    {
     "data": {
      "text/plain": "     Asset1    Asset2    Asset3  Solution fitness     x*V*x  Return error  \\\n0  0.412971  0.364318  0.176581       2005.447969  0.000162     -0.003355   \n1 -0.010866  1.048684 -0.037246        660.195163  0.000928      0.001052   \n2  0.689357  0.137634  0.221131       2125.847516  0.000293      0.000263   \n3  0.472118  0.516574 -0.018145       1063.813874  0.000278     -0.002212   \n4  0.055968  0.990528 -0.020954       5901.691513  0.000800      0.002021   \n5  0.178302  0.430453  0.440106        664.778062  0.000264      0.001529   \n6  0.000522  0.246180  0.799955       1142.143712  0.000525      0.001092   \n7  0.349797 -0.028790  0.663056        826.163215  0.000297     -0.002914   \n8  0.001581  0.003123  0.951451       1219.444400  0.000640     -0.003843   \n9  0.013009 -0.011619  0.966410        749.337313  0.000654     -0.003341   \n\n   Capital not invested  Best solution generation   Run time  \n0             -0.046130                     108.0  25.155219  \n1              0.000572                      88.0  17.509573  \n2              0.048123                     144.0  18.303636  \n3             -0.029453                     108.0  17.698849  \n4              0.025543                     198.0  27.417838  \n5              0.048861                      32.0   8.979712  \n6              0.046657                      67.0  14.926695  \n7             -0.015937                       7.0   3.624997  \n8             -0.043846                     110.0  30.262758  \n9             -0.032200                      20.0   7.358442  ",
      "text/html": "<div>\n<style scoped>\n    .dataframe tbody tr th:only-of-type {\n        vertical-align: middle;\n    }\n\n    .dataframe tbody tr th {\n        vertical-align: top;\n    }\n\n    .dataframe thead th {\n        text-align: right;\n    }\n</style>\n<table border=\"1\" class=\"dataframe\">\n  <thead>\n    <tr style=\"text-align: right;\">\n      <th></th>\n      <th>Asset1</th>\n      <th>Asset2</th>\n      <th>Asset3</th>\n      <th>Solution fitness</th>\n      <th>x*V*x</th>\n      <th>Return error</th>\n      <th>Capital not invested</th>\n      <th>Best solution generation</th>\n      <th>Run time</th>\n    </tr>\n  </thead>\n  <tbody>\n    <tr>\n      <th>0</th>\n      <td>0.412971</td>\n      <td>0.364318</td>\n      <td>0.176581</td>\n      <td>2005.447969</td>\n      <td>0.000162</td>\n      <td>-0.003355</td>\n      <td>-0.046130</td>\n      <td>108.0</td>\n      <td>25.155219</td>\n    </tr>\n    <tr>\n      <th>1</th>\n      <td>-0.010866</td>\n      <td>1.048684</td>\n      <td>-0.037246</td>\n      <td>660.195163</td>\n      <td>0.000928</td>\n      <td>0.001052</td>\n      <td>0.000572</td>\n      <td>88.0</td>\n      <td>17.509573</td>\n    </tr>\n    <tr>\n      <th>2</th>\n      <td>0.689357</td>\n      <td>0.137634</td>\n      <td>0.221131</td>\n      <td>2125.847516</td>\n      <td>0.000293</td>\n      <td>0.000263</td>\n      <td>0.048123</td>\n      <td>144.0</td>\n      <td>18.303636</td>\n    </tr>\n    <tr>\n      <th>3</th>\n      <td>0.472118</td>\n      <td>0.516574</td>\n      <td>-0.018145</td>\n      <td>1063.813874</td>\n      <td>0.000278</td>\n      <td>-0.002212</td>\n      <td>-0.029453</td>\n      <td>108.0</td>\n      <td>17.698849</td>\n    </tr>\n    <tr>\n      <th>4</th>\n      <td>0.055968</td>\n      <td>0.990528</td>\n      <td>-0.020954</td>\n      <td>5901.691513</td>\n      <td>0.000800</td>\n      <td>0.002021</td>\n      <td>0.025543</td>\n      <td>198.0</td>\n      <td>27.417838</td>\n    </tr>\n    <tr>\n      <th>5</th>\n      <td>0.178302</td>\n      <td>0.430453</td>\n      <td>0.440106</td>\n      <td>664.778062</td>\n      <td>0.000264</td>\n      <td>0.001529</td>\n      <td>0.048861</td>\n      <td>32.0</td>\n      <td>8.979712</td>\n    </tr>\n    <tr>\n      <th>6</th>\n      <td>0.000522</td>\n      <td>0.246180</td>\n      <td>0.799955</td>\n      <td>1142.143712</td>\n      <td>0.000525</td>\n      <td>0.001092</td>\n      <td>0.046657</td>\n      <td>67.0</td>\n      <td>14.926695</td>\n    </tr>\n    <tr>\n      <th>7</th>\n      <td>0.349797</td>\n      <td>-0.028790</td>\n      <td>0.663056</td>\n      <td>826.163215</td>\n      <td>0.000297</td>\n      <td>-0.002914</td>\n      <td>-0.015937</td>\n      <td>7.0</td>\n      <td>3.624997</td>\n    </tr>\n    <tr>\n      <th>8</th>\n      <td>0.001581</td>\n      <td>0.003123</td>\n      <td>0.951451</td>\n      <td>1219.444400</td>\n      <td>0.000640</td>\n      <td>-0.003843</td>\n      <td>-0.043846</td>\n      <td>110.0</td>\n      <td>30.262758</td>\n    </tr>\n    <tr>\n      <th>9</th>\n      <td>0.013009</td>\n      <td>-0.011619</td>\n      <td>0.966410</td>\n      <td>749.337313</td>\n      <td>0.000654</td>\n      <td>-0.003341</td>\n      <td>-0.032200</td>\n      <td>20.0</td>\n      <td>7.358442</td>\n    </tr>\n  </tbody>\n</table>\n</div>"
     },
     "execution_count": 34,
     "metadata": {},
     "output_type": "execute_result"
    }
   ],
   "source": [
    "results = pd.DataFrame(results, columns=['Asset1',\n",
    "                                         'Asset2',\n",
    "                                         'Asset3',\n",
    "                                         'Solution fitness',\n",
    "                                         'x*V*x',\n",
    "                                         'Return error',\n",
    "                                         'Capital not invested',\n",
    "                                         'Best solution generation',\n",
    "                                         'Run time']\n",
    "                       )\n",
    "\n",
    "results#.sort_values('Solution fitness', ascending=False)"
   ],
   "metadata": {
    "collapsed": false,
    "ExecuteTime": {
     "end_time": "2024-02-28T12:03:48.520014555Z",
     "start_time": "2024-02-28T12:03:48.512396777Z"
    }
   },
   "id": "a03a04f38db4f2a5",
   "execution_count": 34
  },
  {
   "cell_type": "markdown",
   "source": [
    "## Load runs"
   ],
   "metadata": {
    "collapsed": false
   },
   "id": "b9ae093268084576"
  },
  {
   "cell_type": "code",
   "outputs": [],
   "source": [
    "import os\n",
    "current_dir = os.getcwd()\n",
    "run_dir = os.listdir(current_dir + \"/runs\")\n",
    "run_dir.sort()\n",
    "\n",
    "gas_trained = []\n",
    "\n",
    "for file in run_dir:\n",
    "    if file.startswith(\"run_\"):\n",
    "        continue\n",
    "    file_name, file_extension = os.path.splitext(file)\n",
    "    #file_path = os.path.join(current_dir, \"runs\", file)\n",
    "    globals()[\"run_\" + file_name] = pygad.load(f\"runs/{file_name}\")\n",
    "    gas_trained.append(f\"run_{file_name}\")"
   ],
   "metadata": {
    "collapsed": false,
    "ExecuteTime": {
     "end_time": "2024-02-28T12:03:55.244698064Z",
     "start_time": "2024-02-28T12:03:53.911286182Z"
    }
   },
   "id": "91fbf357709b146a",
   "execution_count": 35
  },
  {
   "cell_type": "markdown",
   "source": [
    "## Plot fitness of runs"
   ],
   "metadata": {
    "collapsed": false
   },
   "id": "9e7bed1d1e75ba55"
  },
  {
   "cell_type": "code",
   "outputs": [],
   "source": [
    "n = 0\n",
    "for variable in gas_trained:\n",
    " \n",
    "    eval(variable).plot_fitness(title=f\"Run {n}\",\n",
    "                           save_dir=f\"graphs/run_fitness_{n}\")\n",
    "    n += 1"
   ],
   "metadata": {
    "collapsed": false
   },
   "id": "a2b75813b417c189",
   "execution_count": null
  },
  {
   "cell_type": "markdown",
   "source": [
    "## Plot genes behaviour"
   ],
   "metadata": {
    "collapsed": false
   },
   "id": "a7cc3689ebba1014"
  },
  {
   "cell_type": "code",
   "outputs": [],
   "source": [
    "n = 0\n",
    "for variable in gas_trained:\n",
    " \n",
    "    eval(variable).plot_genes(title=f\"Run {n}\",\n",
    "                           save_dir=f\"graphs/run_genes_{n}\")\n",
    "    n += 1"
   ],
   "metadata": {
    "collapsed": false
   },
   "id": "e9fff2bb3bb77c",
   "execution_count": null
  },
  {
   "cell_type": "markdown",
   "source": [
    "## Plot solution rate"
   ],
   "metadata": {
    "collapsed": false
   },
   "id": "dee58d9b6b411df8"
  },
  {
   "cell_type": "code",
   "outputs": [],
   "source": [
    "n = 0\n",
    "for variable in gas_trained:\n",
    " \n",
    "    eval(variable).plot_new_solution_rate(title=f\"Run {n}\",\n",
    "                           save_dir=f\"graphs/run_solution_rate_{n}\")\n",
    "    n += 1"
   ],
   "metadata": {
    "collapsed": false
   },
   "id": "b98301e10b9a2c54",
   "execution_count": null
  }
 ],
 "metadata": {
  "kernelspec": {
   "display_name": "Python 3",
   "language": "python",
   "name": "python3"
  },
  "language_info": {
   "codemirror_mode": {
    "name": "ipython",
    "version": 2
   },
   "file_extension": ".py",
   "mimetype": "text/x-python",
   "name": "python",
   "nbconvert_exporter": "python",
   "pygments_lexer": "ipython2",
   "version": "2.7.6"
  }
 },
 "nbformat": 4,
 "nbformat_minor": 5
}
